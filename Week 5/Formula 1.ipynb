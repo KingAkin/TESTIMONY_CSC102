{
 "cells": [
  {
   "cell_type": "code",
   "execution_count": 3,
   "id": "41764171",
   "metadata": {},
   "outputs": [
    {
     "name": "stdout",
     "output_type": "stream",
     "text": [
      "Distance travelled in miles, 700\n",
      "Time taken to travel distance, 70\n",
      "The car is travelling at 10.0 miles per hour\n"
     ]
    }
   ],
   "source": [
    "import math\n",
    "d = float(input(\"Distance travelled in miles, \"))\n",
    "t = float(input(\"Time taken to travel distance, \"))\n",
    "f = d/t\n",
    "print(\"The car is travelling at\", f, \"miles per hour\")"
   ]
  },
  {
   "cell_type": "code",
   "execution_count": null,
   "id": "e6da9d1f",
   "metadata": {},
   "outputs": [],
   "source": []
  }
 ],
 "metadata": {
  "kernelspec": {
   "display_name": "Python 3 (ipykernel)",
   "language": "python",
   "name": "python3"
  },
  "language_info": {
   "codemirror_mode": {
    "name": "ipython",
    "version": 3
   },
   "file_extension": ".py",
   "mimetype": "text/x-python",
   "name": "python",
   "nbconvert_exporter": "python",
   "pygments_lexer": "ipython3",
   "version": "3.9.7"
  }
 },
 "nbformat": 4,
 "nbformat_minor": 5
}
