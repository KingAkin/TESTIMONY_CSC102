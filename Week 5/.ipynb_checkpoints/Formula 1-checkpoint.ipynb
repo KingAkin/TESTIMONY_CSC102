{
 "cells": [
  {
   "cell_type": "code",
   "execution_count": 1,
   "id": "6caca01d",
   "metadata": {},
   "outputs": [
    {
     "name": "stdout",
     "output_type": "stream",
     "text": [
      "Distance travelled in miles, 50\n",
      "Time taken to travel distance, 2\n",
      "The car is travelling at 25.0 miles per hour\n"
     ]
    }
   ],
   "source": [
    "import math\n",
    "d = int(input(\"Distance travelled in miles, \"))\n",
    "t = int(input(\"Time taken to travel distance, \"))\n",
    "f = d/t\n",
    "print(\"The car is travelling at\", f, \"miles per hour\")"
   ]
  },
  {
   "cell_type": "code",
   "execution_count": null,
   "id": "7664a45a",
   "metadata": {},
   "outputs": [],
   "source": []
  }
 ],
 "metadata": {
  "kernelspec": {
   "display_name": "Python 3 (ipykernel)",
   "language": "python",
   "name": "python3"
  },
  "language_info": {
   "codemirror_mode": {
    "name": "ipython",
    "version": 3
   },
   "file_extension": ".py",
   "mimetype": "text/x-python",
   "name": "python",
   "nbconvert_exporter": "python",
   "pygments_lexer": "ipython3",
   "version": "3.9.7"
  }
 },
 "nbformat": 4,
 "nbformat_minor": 5
}
