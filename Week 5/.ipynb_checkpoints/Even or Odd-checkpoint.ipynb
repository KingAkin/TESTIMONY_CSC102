{
 "cells": [
  {
   "cell_type": "markdown",
   "id": "46663ab1",
   "metadata": {},
   "source": [
    "### PROJECT 3"
   ]
  },
  {
   "cell_type": "code",
   "execution_count": 27,
   "id": "aa7897f6",
   "metadata": {},
   "outputs": [
    {
     "name": "stdout",
     "output_type": "stream",
     "text": [
      "Player 1, pick between EVEN and ODD ODD\n",
      "Player 2, pick between EVEN and ODD ODD\n",
      "Player 1, pick a number 5\n",
      "Player 2, pick a number 3\n",
      "Both players are wrong\n"
     ]
    }
   ],
   "source": [
    "import math\n",
    "q = str(input(\"Player 1, pick between EVEN and ODD \"))\n",
    "w = str(input(\"Player 2, pick between EVEN and ODD \"))\n",
    "\n",
    "e = int(input(\"Player 1, pick a number \"))\n",
    "r = int(input(\"Player 2, pick a number \"))\n",
    "\n",
    "f = 0\n",
    "if (e+r)%2 == 0 :\n",
    "    f = 1\n",
    "else:\n",
    "    f = 2\n",
    "    \n",
    "if f == 1:\n",
    "    if q == \"EVEN\":\n",
    "        print(\"Player 1 is the correct\")\n",
    "    elif w == \"EVEN\":\n",
    "        print(\"Player 2 is correct\")\n",
    "    elif q and w == \"EVEN\":\n",
    "        print(\"Both players are correct\")\n",
    "    elif q and w != \"EVEN\":\n",
    "        print(\"Both players are wrong\")\n",
    "else:\n",
    "    if q == \"ODD\":\n",
    "        print(\"Player 1 is correct\")\n",
    "    elif w == \"ODD\":\n",
    "        print(\"Player 2 is correct\")\n",
    "    elif q and w == \"ODD\":\n",
    "        print(\"Both players are correct\")\n",
    "    elif q and w != \"ODD\":\n",
    "        print(\"Both players are wrong\")"
   ]
  }
 ],
 "metadata": {
  "kernelspec": {
   "display_name": "Python 3 (ipykernel)",
   "language": "python",
   "name": "python3"
  },
  "language_info": {
   "codemirror_mode": {
    "name": "ipython",
    "version": 3
   },
   "file_extension": ".py",
   "mimetype": "text/x-python",
   "name": "python",
   "nbconvert_exporter": "python",
   "pygments_lexer": "ipython3",
   "version": "3.9.7"
  }
 },
 "nbformat": 4,
 "nbformat_minor": 5
}
