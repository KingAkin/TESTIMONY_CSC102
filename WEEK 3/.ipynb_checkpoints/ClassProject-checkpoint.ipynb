{
 "cells": [
  {
   "cell_type": "markdown",
   "id": "55d359f4",
   "metadata": {},
   "source": [
    "# PSEUDOCODE FOR PROJECT 1\n",
    "###   - START\n",
    "###   - INPUT x = The_Number\n",
    "###   - COMPUTE g = 2*(x-17)\n",
    "###   - COMPUTE l = abs(x-17)\n",
    "###   - IF x > 17\n",
    "###         PRINT g\n",
    "###   - ELSE \n",
    "###          PRINT l\n",
    "###   END"
   ]
  },
  {
   "cell_type": "code",
   "execution_count": 7,
   "id": "17c73c6e",
   "metadata": {
    "scrolled": true
   },
   "outputs": [
    {
     "name": "stdout",
     "output_type": "stream",
     "text": [
      "The number 78\n",
      "122\n"
     ]
    }
   ],
   "source": [
    "#PROJECT 1\n",
    "import math\n",
    "x = int(input(\"The number \"))\n",
    "g = 2*(x - 17)\n",
    "l = abs(x - 17)\n",
    "\n",
    "if x > 17:\n",
    "    print(g)\n",
    "else :\n",
    "    print(l)\n"
   ]
  },
  {
   "cell_type": "markdown",
   "id": "c0b9c9b4",
   "metadata": {},
   "source": [
    "![Project1](GitPicx/Picture1.png)"
   ]
  },
  {
   "cell_type": "code",
   "execution_count": 9,
   "id": "627d680c",
   "metadata": {},
   "outputs": [
    {
     "name": "stdout",
     "output_type": "stream",
     "text": [
      "First number 7\n",
      "Second number 7\n",
      "Third number 7\n",
      "Your answer is 63\n"
     ]
    }
   ],
   "source": [
    "#PROJECT 2\n",
    "import math\n",
    "x = int(input(\"First number \"))\n",
    "y = int(input(\"Second number \"))\n",
    "z = int(input(\"Third number \"))\n",
    "\n",
    "a = x+y+z\n",
    "b = 3*(x+y+z)\n",
    "\n",
    "if x==y==z:\n",
    "    print(\"Your answer is\", b)\n",
    "else :\n",
    "    print(\"Your answer is\", a)"
   ]
  },
  {
   "cell_type": "markdown",
   "id": "83d45ae1",
   "metadata": {},
   "source": [
    "# PSEUDOCODE FOR PROJECT 2\n",
    "### - START\n",
    "### - INPUT x = \"First number\"\n",
    "### - INPUT y = \"Second number\"\n",
    "### - INPUT z = \"Third number\"\n",
    "### - COMPUTE a = x+y+z\n",
    "### - COMPUTE b = 3*(x+y+z)\n",
    "### - IF x=y=z\n",
    "#### PRINT b\n",
    "### - ELSE\n",
    "#### PRINT a\n",
    "### STOP"
   ]
  },
  {
   "cell_type": "markdown",
   "id": "60741da6",
   "metadata": {},
   "source": [
    "![Project2](GitPicx/Picture2.png)"
   ]
  },
  {
   "cell_type": "code",
   "execution_count": 12,
   "id": "5f11c341",
   "metadata": {},
   "outputs": [
    {
     "name": "stdout",
     "output_type": "stream",
     "text": [
      "First integer 0\n",
      "Second integer 5\n",
      "Equality FALSE\n",
      "Sum 5 TRUE\n",
      "Difference 5 TRUE\n"
     ]
    }
   ],
   "source": [
    "#PROJECT 3\n",
    "import math\n",
    "x = int(input(\"First integer \"))\n",
    "y = int(input(\"Second integer \"))\n",
    "\n",
    "if x==y :\n",
    "    print(\"Equality TRUE\")\n",
    "else:\n",
    "    print(\"Equality FALSE\")\n",
    "\n",
    "if x+y==5 :\n",
    "    print(\"Sum 5 TRUE\")\n",
    "else:\n",
    "    print(\"Sum 5 FALSE\")\n",
    "    \n",
    "if x-y or y-x == 5 :\n",
    "    print(\"Difference 5 TRUE\")\n",
    "else :\n",
    "    print(\"Difference 5 FALSE\")\n"
   ]
  },
  {
   "cell_type": "markdown",
   "id": "972f3aa6",
   "metadata": {},
   "source": [
    "# PSEUDOCODE FOR PROJECT 3\n",
    "### - START\n",
    "### - INPUT x = \"First Integer\"\n",
    "### - INPUT y = \"Second Integer\"\n",
    "### - IF x = y\n",
    "#### PRINT \"Equality TRUE\"\n",
    "### -ELSE\n",
    "#### PRINT \"Equality FALSE\"\n",
    "### - IF x + y = 5\n",
    "#### PRINT \"Sum 5 TRUE\"\n",
    "### - ELSE\n",
    "#### PRINT \"Sum 5 FALSE\"\n",
    "### - IF x-y or y-x = 5\n",
    "#### PRINT \"Difference 5 TRUE\"\n",
    "### - ELSE\n",
    "#### PRINT \"Difference 5 FALSE\"\n",
    "### - STOP"
   ]
  },
  {
   "cell_type": "markdown",
   "id": "e6bd8f44",
   "metadata": {},
   "source": [
    "![Project3](GitPicx/Picture3.png)"
   ]
  },
  {
   "cell_type": "code",
   "execution_count": null,
   "id": "702a6a9e",
   "metadata": {},
   "outputs": [],
   "source": [
    "#PROJECT 4\n",
    "import math\n",
    "x = int(input(\"First number \"))\n",
    "y = int(input(\"Second number \"))\n",
    "z = int(input(\"Third number \"))\n",
    "\n",
    "a = max(x,y,z)\n",
    "b = min(x,y,z)\n",
    "c = (x+y+z)-a-b\n",
    "\n",
    "print(\"Max number is\", a)\n",
    "print(\"Min number is\", b)\n",
    "print(\"Mid number is\", c)"
   ]
  },
  {
   "cell_type": "markdown",
   "id": "068f4ea9",
   "metadata": {},
   "source": [
    "# PSEUDOCODE FOR PROJECT 4\n",
    "### - START\n",
    "### - INPUT x(First number)\n",
    "### - INPUT y(Second number)\n",
    "### - INPUT z(Third number) \n",
    "### - COMPUTE a = max(x,y,z)\n",
    "### - COMPUTE b = min(x,y,z)\n",
    "### - COMPUTE c = (x+y+z)-a-b\n",
    "### - PRINT a,b,c\n",
    "### - STOP"
   ]
  },
  {
   "cell_type": "markdown",
   "id": "e01bf0e0",
   "metadata": {},
   "source": [
    "![Project4](GitPicx/Picture4.png)"
   ]
  },
  {
   "cell_type": "code",
   "execution_count": 24,
   "id": "2163a79b",
   "metadata": {},
   "outputs": [
    {
     "name": "stdout",
     "output_type": "stream",
     "text": [
      "Insert Num 7\n",
      "216\n"
     ]
    }
   ],
   "source": [
    "#PROJECT 5\n",
    "import math\n",
    "\n",
    "x = factorial\n",
    "\n",
    "\n",
    "    "
   ]
  },
  {
   "cell_type": "markdown",
   "id": "4929334e",
   "metadata": {},
   "source": [
    "![Project5](GitPicx/Picture5.png)"
   ]
  },
  {
   "cell_type": "code",
   "execution_count": null,
   "id": "d3542b5e",
   "metadata": {},
   "outputs": [],
   "source": []
  }
 ],
 "metadata": {
  "kernelspec": {
   "display_name": "Python 3 (ipykernel)",
   "language": "python",
   "name": "python3"
  },
  "language_info": {
   "codemirror_mode": {
    "name": "ipython",
    "version": 3
   },
   "file_extension": ".py",
   "mimetype": "text/x-python",
   "name": "python",
   "nbconvert_exporter": "python",
   "pygments_lexer": "ipython3",
   "version": "3.9.7"
  }
 },
 "nbformat": 4,
 "nbformat_minor": 5
}
