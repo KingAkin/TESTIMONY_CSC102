{
 "cells": [
  {
   "cell_type": "markdown",
   "id": "ffe098f3",
   "metadata": {},
   "source": [
    "# TESTIMONY AKINLABI\n",
    "## 21120612447"
   ]
  },
  {
   "cell_type": "code",
   "execution_count": 25,
   "id": "c0382f7a",
   "metadata": {},
   "outputs": [
    {
     "name": "stdout",
     "output_type": "stream",
     "text": [
      "Name please, Testy\n",
      "               PAU CAFETERIA Unnamed: 1\n",
      "0                       MENU      Price\n",
      "1  Poundo Yam/Edinkaiko Soup       5500\n",
      "2       Fried Rice & Chicken       6000\n",
      "3         Amala & Ewedu Soup       4500\n",
      "4           Eba & Egusi Soup       4000\n",
      "5          White Rice & Stew       4500\n",
      "Please choose from the number from number 1-5, 2\n",
      "Please input your desired quantity 24\n",
      "would you like to have anything else? No\n",
      "Testy Your total is #  136000\n",
      "Discount total,#  34000.0\n"
     ]
    }
   ],
   "source": [
    "import math\n",
    "import pandas\n",
    "\n",
    "t = 5500*b\n",
    "r = 6000*b\n",
    "e = 4500*b\n",
    "l = 4000*b\n",
    "n = 4500*b\n",
    "\n",
    "t_1 = 10/100 * t\n",
    "r_1 = 10/100 * r\n",
    "e_1 = 10/100 * e\n",
    "l_1 = 10/100 * l\n",
    "n_1 = 10/100 * n\n",
    "\n",
    "t_2 = 15/100 * t\n",
    "r_2 = 15/100 * r\n",
    "e_2 = 15/100 * e\n",
    "l_2 = 15/100 * l\n",
    "n_2 = 15/100 * n\n",
    "\n",
    "t_3 = 25/100 * t\n",
    "r_3 = 25/100 * r\n",
    "e_3 = 25/100 * e\n",
    "l_3 = 25/100 * l\n",
    "n_3 = 25/100 * n\n",
    "\n",
    "def cont():\n",
    "    new = int(input(\"What would you like to add \"))\n",
    "    ne = int(input(\"Please input your desired quantity \"))\n",
    "    return\n",
    "\n",
    "def move():    \n",
    "    if v == 1:\n",
    "        print(p ,\"Your total is #\", t)\n",
    "        if t < 10000:\n",
    "            print(\"Discount total,\", t_1)\n",
    "        elif 10000 < t < 15000:\n",
    "            print(\"Discount total, \", t_2)\n",
    "        elif t > 15000:\n",
    "            print(\"Discount total,\", t_3)\n",
    "    elif v == 2:\n",
    "        print(p ,\"Your total is #\", r)\n",
    "        if r < 10000:\n",
    "            print(\"Discount total,\", r_1)\n",
    "        elif 10000 < r < 15000:\n",
    "            print(\"Discount total, \", r_2)\n",
    "        elif r > 15000:\n",
    "            print(\"Discount total,\", r_3)\n",
    "    elif v == 3:\n",
    "        print(p ,\"Your total is #\", e)\n",
    "        if e < 10000:\n",
    "            print(\"Discount total,\", e_1)\n",
    "        elif 10000 < e < 15000:\n",
    "            print(\"Discount total, \", e_2)\n",
    "        elif e > 15000:\n",
    "            print(\"Discount total,\", e_3)\n",
    "    elif v == 4:\n",
    "        print(p ,\"Your total is #\", l)\n",
    "        if l < 10000:\n",
    "            print(\"Discount total,\", l_1)\n",
    "        elif 10000 < l < 15000:\n",
    "            print(\"Discount total, \", l_2)\n",
    "        elif l > 15000:\n",
    "            print(\"Discount total,\", l_3)\n",
    "    elif v == 5:\n",
    "        print(p ,\"Your total is #\", n)\n",
    "        if p < 10000:\n",
    "            print(\"Discount total,\", p_1)\n",
    "        elif 10000 < p < 15000:\n",
    "            print(\"Discount total, \", p_2)\n",
    "        elif p > 15000:\n",
    "            print(\"Discount total,\", p_3)\n",
    "    return\n",
    "        \n",
    "\n",
    "\n",
    "p = input(\"Name please, \")\n",
    "\n",
    "menu = pandas.read_excel(\"PAU CAFE.ods\")\n",
    "print(menu)\n",
    "def process():\n",
    "    v = int(input(\"Please choose from the number from number 1-5, \"))\n",
    "    b = int(input(\"Please input your desired quantity \"))    \n",
    "    i = str(input(\"would you like to have anything else? \"))\n",
    "    return\n",
    "\n",
    "process()\n",
    "\n",
    "if v > 5:\n",
    "    print(\"Not on the menu, Try again\")\n",
    "    process()\n",
    "    \n",
    "    \n",
    "if i == \"no\" or \"NO\" or \"No\" :\n",
    "    move()\n",
    "elif i == \"yes\" or \"Yes\" or \"YES\":\n",
    "    cont()\n",
    "    \n"
   ]
  },
  {
   "cell_type": "markdown",
   "id": "515143fb",
   "metadata": {},
   "source": [
    "### Project 2"
   ]
  },
  {
   "cell_type": "code",
   "execution_count": 20,
   "id": "128819da",
   "metadata": {},
   "outputs": [
    {
     "name": "stdout",
     "output_type": "stream",
     "text": [
      "  BOSTON Consulting Group EMIS Unnamed: 1          Unnamed: 2\n",
      "0                Employee Name      Years  Assessment Records\n",
      "1                  Aleghe Luis          5                44.5\n",
      "2                  Anna Mabuta         10                67.4\n",
      "3                   Karim Kafi         15                23.8\n",
      "4                 Esther Moses          8                71.1\n",
      "5                  Jonah Longe          4                50.3\n",
      "6                Coins Fagbemi         20                63.3\n",
      "The rewards are as follows [89.0, 269.6, 23.8, 355.5, 150.89999999999998, 253.2]\n"
     ]
    }
   ],
   "source": [
    "p = pandas.read_excel(\"BCG.ods\")\n",
    "print(p)\n",
    "q = 44.5*2\n",
    "w = 67.4*4\n",
    "e = 23.8*1\n",
    "r = 71.1*5\n",
    "t = 50.3*3\n",
    "y = 63.3*4\n",
    "table = [q,w,e,r,t,y]\n",
    "\"&ebsp\"\n",
    "\n",
    "print(\"The rewards are as follows\", table)"
   ]
  },
  {
   "cell_type": "code",
   "execution_count": null,
   "id": "ebbc4aa8",
   "metadata": {},
   "outputs": [],
   "source": []
  }
 ],
 "metadata": {
  "kernelspec": {
   "display_name": "Python 3 (ipykernel)",
   "language": "python",
   "name": "python3"
  },
  "language_info": {
   "codemirror_mode": {
    "name": "ipython",
    "version": 3
   },
   "file_extension": ".py",
   "mimetype": "text/x-python",
   "name": "python",
   "nbconvert_exporter": "python",
   "pygments_lexer": "ipython3",
   "version": "3.9.7"
  }
 },
 "nbformat": 4,
 "nbformat_minor": 5
}
