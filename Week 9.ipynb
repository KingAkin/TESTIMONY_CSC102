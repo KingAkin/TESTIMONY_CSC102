{
 "cells": [
  {
   "cell_type": "code",
   "execution_count": 31,
   "id": "9238af65",
   "metadata": {},
   "outputs": [
    {
     "data": {
      "text/plain": [
       "int"
      ]
     },
     "execution_count": 31,
     "metadata": {},
     "output_type": "execute_result"
    }
   ],
   "source": [
    "type(6)"
   ]
  },
  {
   "cell_type": "code",
   "execution_count": 33,
   "id": "af8ff1c5",
   "metadata": {},
   "outputs": [
    {
     "name": "stdout",
     "output_type": "stream",
     "text": [
      "jack saparrow\n"
     ]
    }
   ],
   "source": [
    "print('jack saparrow')"
   ]
  },
  {
   "cell_type": "code",
   "execution_count": null,
   "id": "9dc09a6c",
   "metadata": {},
   "outputs": [],
   "source": []
  },
  {
   "cell_type": "code",
   "execution_count": 30,
   "id": "55744548",
   "metadata": {},
   "outputs": [
    {
     "name": "stdout",
     "output_type": "stream",
     "text": [
      "State yout name, Testimony\n",
      "State your age, 17\n",
      "State your Height, 180\n",
      "State your color, Black\n",
      "Name is  Testimony\n",
      "Age is  17\n",
      "Height is 180\n",
      "Color is Black\n"
     ]
    }
   ],
   "source": [
    "class Person():\n",
    "    \n",
    "    def __init__(self,name,age):\n",
    "        self.name = name\n",
    "        self.age = age\n",
    "        \n",
    "    def display(self):\n",
    "        print('Name is ', self.name)\n",
    "        print('Age is ', self.age)\n",
    "        print('Height is', self.height)\n",
    "        print('Color is', self.color)\n",
    "        \n",
    "class Xtra(Person):\n",
    "    \n",
    "    def __init__(self,name,age,height,color):\n",
    "        self.height = height\n",
    "        self.color = color\n",
    "        \n",
    "        Person.__init__(self,name,age)\n",
    "        \n",
    "        \n",
    "g = str(input(\"State yout name, \" ))\n",
    "k = int(input(\"State your age, \" ))\n",
    "o = int(input(\"State your Height, \"))\n",
    "l = str(input(\"State your color, \"))\n",
    "\n",
    "f = Xtra(g,k,o,l)\n",
    "\n",
    "f.display()"
   ]
  }
 ],
 "metadata": {
  "kernelspec": {
   "display_name": "Python 3 (ipykernel)",
   "language": "python",
   "name": "python3"
  },
  "language_info": {
   "codemirror_mode": {
    "name": "ipython",
    "version": 3
   },
   "file_extension": ".py",
   "mimetype": "text/x-python",
   "name": "python",
   "nbconvert_exporter": "python",
   "pygments_lexer": "ipython3",
   "version": "3.9.12"
  }
 },
 "nbformat": 4,
 "nbformat_minor": 5
}
