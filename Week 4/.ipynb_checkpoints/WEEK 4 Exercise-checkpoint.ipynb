{
 "cells": [
  {
   "cell_type": "code",
   "execution_count": 25,
   "id": "699bcced",
   "metadata": {},
   "outputs": [
    {
     "name": "stdout",
     "output_type": "stream",
     "text": [
      "2 is a prime number\n",
      "3 is a prime number\n",
      "5 is a prime number\n",
      "7 is a prime number\n",
      "11 is a prime number\n",
      "13 is a prime number\n",
      "17 is a prime number\n",
      "19 is a prime number\n",
      "23 is a prime number\n",
      "29 is a prime number\n",
      "31 is a prime number\n",
      "37 is a prime number\n",
      "41 is a prime number\n",
      "43 is a prime number\n",
      "47 is a prime number\n",
      "Bye\n"
     ]
    }
   ],
   "source": [
    "import math\n",
    "num = 2\n",
    "for i in range(2, 50):\n",
    "    j = 2\n",
    "    while (j <= (i/2)):\n",
    "        if (i % j == 0):\n",
    "            break\n",
    "        j += 1\n",
    "    if (j > i/j):\n",
    "        print(i, \"is a prime number\")\n",
    "print(\"Bye\")"
   ]
  },
  {
   "cell_type": "code",
   "execution_count": 28,
   "id": "62e62021",
   "metadata": {
    "scrolled": true
   },
   "outputs": [
    {
     "name": "stdout",
     "output_type": "stream",
     "text": [
      "Enter number 4\n",
      "1\n",
      "12\n",
      "123\n",
      "1234\n"
     ]
    }
   ],
   "source": [
    "num = int(input(\"Enter number \"))\n",
    "for i in range(1, num + 1):\n",
    "    for j in range(1, i + 1):\n",
    "        print(j, end = \"\")\n",
    "    print()"
   ]
  },
  {
   "cell_type": "code",
   "execution_count": 32,
   "id": "22db0529",
   "metadata": {},
   "outputs": [
    {
     "name": "stdout",
     "output_type": "stream",
     "text": [
      "Number 5\n",
      "Factorial of 5 is 120\n"
     ]
    }
   ],
   "source": [
    "import math\n",
    "x = int(input(\"Number \"))\n",
    "count = 1\n",
    "\n",
    "for i in range(1, x+1):\n",
    "    count = count * i\n",
    "print(\"Factorial of\", x, \"is\", count)"
   ]
  },
  {
   "cell_type": "code",
   "execution_count": 33,
   "id": "aeb76735",
   "metadata": {
    "scrolled": true
   },
   "outputs": [
    {
     "name": "stdout",
     "output_type": "stream",
     "text": [
      "Enter number to be checked 7\n",
      "7 is a prime number\n"
     ]
    }
   ],
   "source": [
    "num = int(input (\"Enter number to be checked \"))\n",
    "flag = 0 \n",
    "if num > 1:\n",
    "    for i in range(2, int(num/2)):\n",
    "        if (num % i == 0):\n",
    "            flag = 1\n",
    "            break\n",
    "    if flag == 1:\n",
    "            print(num, \"is not a prime number\")\n",
    "    else:\n",
    "            print(num, \"is a prime number\")\n",
    "else:\n",
    "    print(\"Enter a number <= 1, and execute again\")"
   ]
  },
  {
   "cell_type": "code",
   "execution_count": null,
   "id": "7d44143e",
   "metadata": {},
   "outputs": [],
   "source": []
  }
 ],
 "metadata": {
  "kernelspec": {
   "display_name": "Python 3 (ipykernel)",
   "language": "python",
   "name": "python3"
  },
  "language_info": {
   "codemirror_mode": {
    "name": "ipython",
    "version": 3
   },
   "file_extension": ".py",
   "mimetype": "text/x-python",
   "name": "python",
   "nbconvert_exporter": "python",
   "pygments_lexer": "ipython3",
   "version": "3.9.7"
  }
 },
 "nbformat": 4,
 "nbformat_minor": 5
}
